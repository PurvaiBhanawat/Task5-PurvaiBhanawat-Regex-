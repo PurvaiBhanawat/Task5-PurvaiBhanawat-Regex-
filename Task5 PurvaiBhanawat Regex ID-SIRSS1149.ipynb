{
 "cells": [
  {
   "cell_type": "markdown",
   "metadata": {},
   "source": [
    "# Task 5\n"
   ]
  },
  {
   "cell_type": "markdown",
   "metadata": {},
   "source": [
    "### Q1. Given a list of integers, write a function to return the sum of all prime numbers in that list."
   ]
  },
  {
   "cell_type": "code",
   "execution_count": 2,
   "metadata": {},
   "outputs": [
    {
     "name": "stdout",
     "output_type": "stream",
     "text": [
      "Enter no. of elements:4\n",
      "2\n",
      "3\n",
      "4\n",
      "5\n",
      "[2, 3, 4, 5]\n",
      "The sum is 10\n"
     ]
    }
   ],
   "source": [
    "lst = []\n",
    "n=int(input('Enter no. of elements:'))\n",
    "for l in range(0,n):\n",
    "    el=int(input())\n",
    "    lst.append(el)\n",
    "print(lst)\n",
    "\n",
    "sum=0\n",
    "for num in lst:\n",
    "    if num > 1:  \n",
    "        for i in range(2,num):  \n",
    "            if (num % i) == 0:  \n",
    "           #print(num,\"is not a prime number\")  \n",
    "               break  \n",
    "        else:  \n",
    "            sum= sum +num\n",
    "\n",
    "    else: \n",
    "        \n",
    "        continue\n",
    "        \n",
    "print(\"The sum is\", sum)"
   ]
  },
  {
   "cell_type": "markdown",
   "metadata": {},
   "source": [
    "### Q2. Given a list of integers, write a function to check whether the list is strictly increasing or not."
   ]
  },
  {
   "cell_type": "code",
   "execution_count": 7,
   "metadata": {},
   "outputs": [
    {
     "name": "stdout",
     "output_type": "stream",
     "text": [
      "Enter no. of elements:6\n",
      "4\n",
      "9\n",
      "2\n",
      "5\n",
      "1\n",
      "7\n",
      "[4, 9, 2, 5, 1, 7]\n",
      "no, list is not increasing. \n"
     ]
    }
   ],
   "source": [
    "lst = []\n",
    "n=int(input('Enter no. of elements:'))\n",
    "for l in range(0,n):\n",
    "    el=int(input())\n",
    "    lst.append(el)\n",
    "print(lst)\n",
    "\n",
    "res = all(i < j for i, j in zip(lst, lst[1:]))\n",
    "\n",
    "if str(res)==True:\n",
    "    print(\"yes, list is strictly increasing.\")\n",
    "else:\n",
    "    print(\"no, list is not increasing. \")\n"
   ]
  },
  {
   "cell_type": "markdown",
   "metadata": {},
   "source": [
    "### Q3. Write a function to check whether a given list is expanding or not (the difference between adjacent elements should keep on increasing)."
   ]
  },
  {
   "cell_type": "code",
   "execution_count": 8,
   "metadata": {},
   "outputs": [
    {
     "name": "stdout",
     "output_type": "stream",
     "text": [
      "Enter no. of elements:4\n",
      "1\n",
      "3\n",
      "6\n",
      "10\n",
      "[1, 3, 6, 10]\n",
      "The list is expanding\n"
     ]
    },
    {
     "data": {
      "text/plain": [
       "True"
      ]
     },
     "execution_count": 8,
     "metadata": {},
     "output_type": "execute_result"
    }
   ],
   "source": [
    "def expanding(lst):\n",
    " for i in range(0,len(lst)-2):\n",
    "  if (abs(lst[i+2]-lst[i+1])>abs(lst[i+1]-lst[i])):\n",
    "   print('The list is expanding')\n",
    "   return True\n",
    "    \n",
    "  else:\n",
    "   print('The list is not expanding') \n",
    "   return False\n",
    "   \n",
    "   \n",
    "\n",
    "\n",
    "lst = []\n",
    "n=int(input('Enter no. of elements:'))\n",
    "for l in range(0,n):\n",
    "    el=int(input())\n",
    "    lst.append(el)\n",
    "print(lst)\n",
    "\n",
    "expanding(lst)\n",
    "\n"
   ]
  },
  {
   "cell_type": "markdown",
   "metadata": {},
   "source": [
    "### Q4. Write a function to calculate all permutations of a given string. (Without using itertools)"
   ]
  },
  {
   "cell_type": "code",
   "execution_count": 9,
   "metadata": {},
   "outputs": [
    {
     "name": "stdout",
     "output_type": "stream",
     "text": [
      "Enter the string : pam\n",
      "All possible strings are : \n",
      "pam  pma  apm  amp  mpa  map  "
     ]
    }
   ],
   "source": [
    "def permute(s, answer):\n",
    "    if (len(s) == 0):\n",
    "        print(answer, end = \"  \")\n",
    "        return\n",
    "     \n",
    "    for i in range(len(s)):\n",
    "        ch = s[i]\n",
    "        left_substr = s[0:i]\n",
    "        right_substr = s[i + 1:]\n",
    "        rest = left_substr + right_substr\n",
    "        permute(rest, answer + ch)\n",
    " \n",
    "answer = \"\"\n",
    " \n",
    "s = input(\"Enter the string : \")\n",
    " \n",
    "print(\"All possible strings are : \")\n",
    "permute(s, answer)"
   ]
  },
  {
   "cell_type": "code",
   "execution_count": null,
   "metadata": {},
   "outputs": [],
   "source": []
  }
 ],
 "metadata": {
  "kernelspec": {
   "display_name": "Python 3",
   "language": "python",
   "name": "python3"
  },
  "language_info": {
   "codemirror_mode": {
    "name": "ipython",
    "version": 3
   },
   "file_extension": ".py",
   "mimetype": "text/x-python",
   "name": "python",
   "nbconvert_exporter": "python",
   "pygments_lexer": "ipython3",
   "version": "3.7.6"
  }
 },
 "nbformat": 4,
 "nbformat_minor": 4
}
